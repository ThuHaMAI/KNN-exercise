{
 "cells": [
  {
   "cell_type": "markdown",
   "id": "737b1167",
   "metadata": {},
   "source": [
    "# Machine learning and statistical learning\n",
    "\n",
    "## K-Nearest Neighbors\n",
    "\n",
    "## Thu Ha MAI - M2 EBDS"
   ]
  },
  {
   "cell_type": "markdown",
   "id": "20cfdfaf",
   "metadata": {},
   "source": [
    "### 1. Context\n",
    "\n",
    "**In this Notebook, I will build a classifier using the K-Nearest Neighbors algorithm.**"
   ]
  },
  {
   "cell_type": "markdown",
   "id": "8a0fea78",
   "metadata": {},
   "source": [
    "### 2. Lab setup: generating data"
   ]
  },
  {
   "cell_type": "markdown",
   "id": "d0352473",
   "metadata": {},
   "source": [
    "**1. Draw n = 50 observations in a unit square. To do so:**\n",
    "\n",
    "• Randomly generate 50 observations from a Beta distribution with parameters α = β = 1 and store the drawn values in an object I call x.\n",
    "\n",
    "• Do the same procedure and store the draws in an object I call y."
   ]
  },
  {
   "cell_type": "code",
   "execution_count": 1,
   "id": "9e9b3b5a",
   "metadata": {},
   "outputs": [
    {
     "name": "stdout",
     "output_type": "stream",
     "text": [
      "[0.68960419 0.77597662 0.8759765  0.03287548 0.15417192 0.76750033\n",
      " 0.66585046 0.41702684 0.46542259 0.80009416 0.26484591 0.13149392\n",
      " 0.24417835 0.41453624 0.90293655 0.98774048 0.6283905  0.56883108\n",
      " 0.68593371 0.44284032 0.6344414  0.6257148  0.11404695 0.64189834\n",
      " 0.44941067 0.57722109 0.174189   0.6196735  0.56419069 0.41914037\n",
      " 0.65585511 0.39174354 0.15700715 0.81953719 0.79490503 0.98933475\n",
      " 0.02289607 0.12718415 0.02701666 0.1768639  0.95052199 0.58795646\n",
      " 0.96350564 0.69252564 0.22902869 0.48176242 0.28345923 0.60235012\n",
      " 0.51552635 0.52307238]\n",
      "[0.28795454 0.6822274  0.99794898 0.96630944 0.59698826 0.89537991\n",
      " 0.74859275 0.12601808 0.72751959 0.00843717 0.72595016 0.48770378\n",
      " 0.73282217 0.59748534 0.05497455 0.99338272 0.43284064 0.58036997\n",
      " 0.8264016  0.21788385 0.7314683  0.92970365 0.49013583 0.91530993\n",
      " 0.21290272 0.22608808 0.86718934 0.80307502 0.33743128 0.24269647\n",
      " 0.10753166 0.02877405 0.48606692 0.98194786 0.35388495 0.08837337\n",
      " 0.67093493 0.60591981 0.85872068 0.78638226 0.58425681 0.13865549\n",
      " 0.40776022 0.53461589 0.59775998 0.15040767 0.57535886 0.29990977\n",
      " 0.90108389 0.60794576]\n"
     ]
    }
   ],
   "source": [
    "import numpy as np\n",
    "\n",
    "# x = np.random.beta(a, b, size)\n",
    "\n",
    "x = np.random.beta(1, 1, 50)\n",
    "print(x)\n",
    "y = np.random.beta(1, 1, 50)\n",
    "print(y)"
   ]
  },
  {
   "cell_type": "markdown",
   "id": "c8a63f34",
   "metadata": {},
   "source": [
    "**2. Create a vector called true_label of size n = 50 which will contain the true labels: “orange” or “blue”.**\n",
    "\n",
    "• “orange” if x + y ≥ 1\n",
    "\n",
    "• “blue” otherwise."
   ]
  },
  {
   "cell_type": "code",
   "execution_count": 2,
   "id": "ec5a52fb",
   "metadata": {},
   "outputs": [
    {
     "name": "stdout",
     "output_type": "stream",
     "text": [
      "['blue', 'orange', 'orange', 'blue', 'blue', 'orange', 'orange', 'blue', 'orange', 'blue', 'blue', 'blue', 'blue', 'orange', 'blue', 'orange', 'orange', 'orange', 'orange', 'blue', 'orange', 'orange', 'blue', 'orange', 'blue', 'blue', 'orange', 'orange', 'blue', 'blue', 'blue', 'blue', 'blue', 'orange', 'orange', 'orange', 'blue', 'blue', 'blue', 'blue', 'orange', 'blue', 'orange', 'orange', 'blue', 'blue', 'blue', 'blue', 'orange', 'orange']\n"
     ]
    }
   ],
   "source": [
    "true_label = []\n",
    "\n",
    "for i in range(50):\n",
    "    if x[i] + y[i] >= 1:\n",
    "       true_label.append(\"orange\")\n",
    "    else:\n",
    "        true_label.append(\"blue\")\n",
    "        \n",
    "print(true_label)"
   ]
  },
  {
   "cell_type": "markdown",
   "id": "895649bb",
   "metadata": {},
   "source": [
    "**3. Create a new point (x0, y0) at which I will try to assign a label later on, depending on the values of the nearest neighbors. For example: (x0 = 0.75, y0 = 0.5).**"
   ]
  },
  {
   "cell_type": "code",
   "execution_count": 3,
   "id": "c141608a",
   "metadata": {},
   "outputs": [],
   "source": [
    "x0 = 0.75\n",
    "y0 = 0.5"
   ]
  },
  {
   "cell_type": "markdown",
   "id": "229f1ac0",
   "metadata": {},
   "source": [
    "**4. I create a matrix with 3 columns: the x and y coordinates of your generated points, and the assigned label.**"
   ]
  },
  {
   "cell_type": "code",
   "execution_count": 4,
   "id": "7b6552c0",
   "metadata": {},
   "outputs": [
    {
     "name": "stdout",
     "output_type": "stream",
     "text": [
      "[['0.6896041879862339' '0.28795453626668693' 'blue']\n",
      " ['0.775976620544169' '0.6822274035883185' 'orange']\n",
      " ['0.8759764985147169' '0.9979489772326912' 'orange']\n",
      " ['0.03287548094647023' '0.9663094364296686' 'blue']\n",
      " ['0.15417192023791187' '0.596988262445039' 'blue']\n",
      " ['0.767500331804544' '0.8953799078398433' 'orange']\n",
      " ['0.6658504555553756' '0.7485927466572512' 'orange']\n",
      " ['0.41702683649454664' '0.12601808096851796' 'blue']\n",
      " ['0.4654225903771782' '0.7275195897239226' 'orange']\n",
      " ['0.8000941592186867' '0.008437166411177198' 'blue']\n",
      " ['0.2648459052798348' '0.7259501646224985' 'blue']\n",
      " ['0.13149391664189966' '0.4877037817333689' 'blue']\n",
      " ['0.24417835171755278' '0.7328221678514764' 'blue']\n",
      " ['0.41453623885123303' '0.5974853425197141' 'orange']\n",
      " ['0.9029365516785564' '0.054974549828837975' 'blue']\n",
      " ['0.9877404820699175' '0.9933827170246077' 'orange']\n",
      " ['0.6283905001932043' '0.4328406415826899' 'orange']\n",
      " ['0.5688310838456867' '0.5803699668266495' 'orange']\n",
      " ['0.6859337119497525' '0.826401602834466' 'orange']\n",
      " ['0.44284032113967253' '0.2178838451940968' 'blue']\n",
      " ['0.6344413984678299' '0.7314682975719378' 'orange']\n",
      " ['0.6257148026810915' '0.9297036488695753' 'orange']\n",
      " ['0.11404694729911663' '0.4901358337351866' 'blue']\n",
      " ['0.6418983439264594' '0.9153099298116494' 'orange']\n",
      " ['0.44941067330756285' '0.2129027173543769' 'blue']\n",
      " ['0.5772210919653807' '0.22608807743229467' 'blue']\n",
      " ['0.1741889953567131' '0.8671893405786004' 'orange']\n",
      " ['0.6196734978215306' '0.8030750200737685' 'orange']\n",
      " ['0.5641906906378342' '0.33743127922476157' 'blue']\n",
      " ['0.4191403704495221' '0.2426964707490108' 'blue']\n",
      " ['0.6558551085346311' '0.10753165958350841' 'blue']\n",
      " ['0.39174353909799126' '0.028774047434324507' 'blue']\n",
      " ['0.15700715279462432' '0.48606692052795564' 'blue']\n",
      " ['0.8195371903721151' '0.9819478633018218' 'orange']\n",
      " ['0.7949050343962443' '0.353884946473118' 'orange']\n",
      " ['0.9893347483382404' '0.0883733658925302' 'orange']\n",
      " ['0.022896067068363994' '0.670934930214985' 'blue']\n",
      " ['0.12718414555817095' '0.605919812225951' 'blue']\n",
      " ['0.027016659862426833' '0.8587206782336015' 'blue']\n",
      " ['0.17686389705729155' '0.7863822570799058' 'blue']\n",
      " ['0.9505219875270107' '0.5842568108712377' 'orange']\n",
      " ['0.5879564561464777' '0.1386554925757713' 'blue']\n",
      " ['0.9635056401107839' '0.4077602234340974' 'orange']\n",
      " ['0.6925256358077336' '0.5346158943058064' 'orange']\n",
      " ['0.22902868767405976' '0.5977599811982303' 'blue']\n",
      " ['0.4817624236221139' '0.15040767442249572' 'blue']\n",
      " ['0.2834592334992749' '0.5753588632766304' 'blue']\n",
      " ['0.6023501207229638' '0.29990976580099615' 'blue']\n",
      " ['0.515526354003721' '0.9010838896300671' 'orange']\n",
      " ['0.5230723797059283' '0.6079457627320258' 'orange']]\n"
     ]
    }
   ],
   "source": [
    "matrix = np.array((x, y, true_label)).T # T for transpose\n",
    "print(matrix)"
   ]
  },
  {
   "cell_type": "markdown",
   "id": "f19dc8ed",
   "metadata": {},
   "source": [
    "**5. I plot my 50 observations on a scatter plot and add the new (x0, y0) observation using a different color/shape.**"
   ]
  },
  {
   "cell_type": "code",
   "execution_count": 5,
   "id": "7936a8ed",
   "metadata": {},
   "outputs": [
    {
     "data": {
      "image/png": "[encoded data removed]",
      "text/plain": [
       "<Figure size 432x288 with 1 Axes>"
      ]
     },
     "metadata": {
      "needs_background": "light"
     },
     "output_type": "display_data"
    }
   ],
   "source": [
    "import matplotlib.pyplot as plt\n",
    "\n",
    "plt.scatter(x, y, c = true_label)\n",
    "plt.scatter(x0, y0, c = \"green\")\n",
    "plt.xlabel('x')\n",
    "plt.ylabel('y')\n",
    "plt.show()"
   ]
  },
  {
   "cell_type": "markdown",
   "id": "a30abe61",
   "metadata": {},
   "source": [
    "### 3. The algorithm\n",
    "\n",
    "**1. To know which are the K closests points of my new observation, I will compute the distance between each point of my dataset and my new observation. To do that, I create a function that computes the distances between two points:**\n",
    "\n",
    "• This function will require four parameters: the two coordinates of a first point (xA and yA) and the two coordinates of a second point (xB and yB).\n",
    "\n",
    "• The function will return the Euclidean distance between the two points whose coordinates are given as parameters."
   ]
  },
  {
   "cell_type": "code",
   "execution_count": 6,
   "id": "a009d61b",
   "metadata": {},
   "outputs": [],
   "source": [
    "# Create a function that computes the distances between two points\n",
    "\n",
    "from scipy.spatial import distance\n",
    "\n",
    "def Euclidean(xA, yA, xB, yB):\n",
    "    a = np.array([xA, yA]).astype(float)\n",
    "    b = np.array([xB, yB]).astype(float)\n",
    "    return distance.euclidean(a, b)"
   ]
  },
  {
   "cell_type": "code",
   "execution_count": 7,
   "id": "a2d8d320",
   "metadata": {},
   "outputs": [
    {
     "name": "stdout",
     "output_type": "stream",
     "text": [
      "0.37615548968365664\n",
      "0.14356345879557728\n"
     ]
    }
   ],
   "source": [
    "# The element of the 1st column and 1st row\n",
    "\n",
    "print(matrix[0, 0])\n",
    "\n",
    "# The element of the 2nd column and 1st row\n",
    "\n",
    "print(matrix[0, 1])\n",
    "\n",
    "# matrix[i-th row, i-th column]"
   ]
  },
  {
   "cell_type": "markdown",
   "id": "6df51d7f",
   "metadata": {},
   "source": [
    "**2. Using a loop, I apply this function to my new point (x0, y0) and each of the points in my dataset. In other words, at iteration i, I store the Euclidean distance between my point (x0, y0) and the i-th point from my data, i.e., (xi, yi). Once I have computed the distance from my point (x0, y0) to all points from my dataset, order my dataset by increasing distances to my new point.**"
   ]
  },
  {
   "cell_type": "code",
   "execution_count": 7,
   "id": "f98d7012",
   "metadata": {},
   "outputs": [
    {
     "name": "stdout",
     "output_type": "stream",
     "text": [
      "[0.22047887154708942, 0.18406958312941235, 0.5136372865214437, 0.8554016988123835, 0.6036702938567418, 0.39576701875814785, 0.26244904176017503, 0.5007330659915514, 0.36434800092188974, 0.4941087371760388, 0.5351896603230272, 0.6186282988472463, 0.5568318433012185, 0.3493412759040405, 0.4705711849862602, 0.5476742118024372, 0.13892174007794375, 0.1981956299928062, 0.33262966734409866, 0.417057062186996, 0.25871096453169895, 0.4473164831798928, 0.6360295488541963, 0.429148349462047, 0.41566668500604365, 0.32385226938586065, 0.682924831077959, 0.32990826749687524, 0.24688800785000162, 0.4191338695826121, 0.4036021045761546, 0.5919472866307107, 0.593156511841784, 0.4869385626401336, 0.15285964471138702, 0.4761487243170706, 0.7469262879643846, 0.6317583360479594, 0.8070845278586729, 0.6407025750428479, 0.21750466123734946, 0.39601510469964, 0.23257866355287882, 0.06709368582732676, 0.5300642623215517, 0.4406429296877122, 0.4725878173222729, 0.24866963761652844, 0.464592485074363, 0.2512935187069678]\n",
      "50\n"
     ]
    }
   ],
   "source": [
    "Distance = []\n",
    "\n",
    "for i in range(50):\n",
    "    result = Euclidean(x0, y0, matrix[i, 0], matrix[i, 1])\n",
    "    Distance.append(result)\n",
    "    \n",
    "print(Distance)\n",
    "print(len(Distance))"
   ]
  },
  {
   "cell_type": "code",
   "execution_count": 8,
   "id": "4256889b",
   "metadata": {},
   "outputs": [
    {
     "name": "stdout",
     "output_type": "stream",
     "text": [
      "[['0.6896041879862339' '0.28795453626668693' 'blue' '0.22047887154708942']\n",
      " ['0.775976620544169' '0.6822274035883185' 'orange' '0.18406958312941235']\n",
      " ['0.8759764985147169' '0.9979489772326912' 'orange' '0.5136372865214437']\n",
      " ['0.03287548094647023' '0.9663094364296686' 'blue' '0.8554016988123835']\n",
      " ['0.15417192023791187' '0.596988262445039' 'blue' '0.6036702938567418']\n",
      " ['0.767500331804544' '0.8953799078398433' 'orange' '0.39576701875814785']\n",
      " ['0.6658504555553756' '0.7485927466572512' 'orange'\n",
      "  '0.26244904176017503']\n",
      " ['0.41702683649454664' '0.12601808096851796' 'blue' '0.5007330659915514']\n",
      " ['0.4654225903771782' '0.7275195897239226' 'orange'\n",
      "  '0.36434800092188974']\n",
      " ['0.8000941592186867' '0.008437166411177198' 'blue' '0.4941087371760388']\n",
      " ['0.2648459052798348' '0.7259501646224985' 'blue' '0.5351896603230272']\n",
      " ['0.13149391664189966' '0.4877037817333689' 'blue' '0.6186282988472463']\n",
      " ['0.24417835171755278' '0.7328221678514764' 'blue' '0.5568318433012185']\n",
      " ['0.41453623885123303' '0.5974853425197141' 'orange'\n",
      "  '0.3493412759040405']\n",
      " ['0.9029365516785564' '0.054974549828837975' 'blue' '0.4705711849862602']\n",
      " ['0.9877404820699175' '0.9933827170246077' 'orange' '0.5476742118024372']\n",
      " ['0.6283905001932043' '0.4328406415826899' 'orange'\n",
      "  '0.13892174007794375']\n",
      " ['0.5688310838456867' '0.5803699668266495' 'orange' '0.1981956299928062']\n",
      " ['0.6859337119497525' '0.826401602834466' 'orange' '0.33262966734409866']\n",
      " ['0.44284032113967253' '0.2178838451940968' 'blue' '0.417057062186996']\n",
      " ['0.6344413984678299' '0.7314682975719378' 'orange'\n",
      "  '0.25871096453169895']\n",
      " ['0.6257148026810915' '0.9297036488695753' 'orange' '0.4473164831798928']\n",
      " ['0.11404694729911663' '0.4901358337351866' 'blue' '0.6360295488541963']\n",
      " ['0.6418983439264594' '0.9153099298116494' 'orange' '0.429148349462047']\n",
      " ['0.44941067330756285' '0.2129027173543769' 'blue' '0.41566668500604365']\n",
      " ['0.5772210919653807' '0.22608807743229467' 'blue' '0.32385226938586065']\n",
      " ['0.1741889953567131' '0.8671893405786004' 'orange' '0.682924831077959']\n",
      " ['0.6196734978215306' '0.8030750200737685' 'orange'\n",
      "  '0.32990826749687524']\n",
      " ['0.5641906906378342' '0.33743127922476157' 'blue' '0.24688800785000162']\n",
      " ['0.4191403704495221' '0.2426964707490108' 'blue' '0.4191338695826121']\n",
      " ['0.6558551085346311' '0.10753165958350841' 'blue' '0.4036021045761546']\n",
      " ['0.39174353909799126' '0.028774047434324507' 'blue'\n",
      "  '0.5919472866307107']\n",
      " ['0.15700715279462432' '0.48606692052795564' 'blue' '0.593156511841784']\n",
      " ['0.8195371903721151' '0.9819478633018218' 'orange' '0.4869385626401336']\n",
      " ['0.7949050343962443' '0.353884946473118' 'orange' '0.15285964471138702']\n",
      " ['0.9893347483382404' '0.0883733658925302' 'orange' '0.4761487243170706']\n",
      " ['0.022896067068363994' '0.670934930214985' 'blue' '0.7469262879643846']\n",
      " ['0.12718414555817095' '0.605919812225951' 'blue' '0.6317583360479594']\n",
      " ['0.027016659862426833' '0.8587206782336015' 'blue' '0.8070845278586729']\n",
      " ['0.17686389705729155' '0.7863822570799058' 'blue' '0.6407025750428479']\n",
      " ['0.9505219875270107' '0.5842568108712377' 'orange'\n",
      "  '0.21750466123734946']\n",
      " ['0.5879564561464777' '0.1386554925757713' 'blue' '0.39601510469964']\n",
      " ['0.9635056401107839' '0.4077602234340974' 'orange'\n",
      "  '0.23257866355287882']\n",
      " ['0.6925256358077336' '0.5346158943058064' 'orange'\n",
      "  '0.06709368582732676']\n",
      " ['0.22902868767405976' '0.5977599811982303' 'blue' '0.5300642623215517']\n",
      " ['0.4817624236221139' '0.15040767442249572' 'blue' '0.4406429296877122']\n",
      " ['0.2834592334992749' '0.5753588632766304' 'blue' '0.4725878173222729']\n",
      " ['0.6023501207229638' '0.29990976580099615' 'blue' '0.24866963761652844']\n",
      " ['0.515526354003721' '0.9010838896300671' 'orange' '0.464592485074363']\n",
      " ['0.5230723797059283' '0.6079457627320258' 'orange' '0.2512935187069678']]\n"
     ]
    }
   ],
   "source": [
    "# Add the list of Distance to the matrix as the 4th column\n",
    "\n",
    "new_matrix = np.insert(matrix, 3, Distance, axis=1)\n",
    "\n",
    "print(new_matrix)"
   ]
  },
  {
   "cell_type": "code",
   "execution_count": 9,
   "id": "889dd05f",
   "metadata": {},
   "outputs": [
    {
     "name": "stdout",
     "output_type": "stream",
     "text": [
      "[['0.6925256358077336' '0.5346158943058064' 'orange'\n",
      "  '0.06709368582732676']\n",
      " ['0.6283905001932043' '0.4328406415826899' 'orange'\n",
      "  '0.13892174007794375']\n",
      " ['0.7949050343962443' '0.353884946473118' 'orange' '0.15285964471138702']\n",
      " ['0.775976620544169' '0.6822274035883185' 'orange' '0.18406958312941235']\n",
      " ['0.5688310838456867' '0.5803699668266495' 'orange' '0.1981956299928062']\n",
      " ['0.9505219875270107' '0.5842568108712377' 'orange'\n",
      "  '0.21750466123734946']\n",
      " ['0.6896041879862339' '0.28795453626668693' 'blue' '0.22047887154708942']\n",
      " ['0.9635056401107839' '0.4077602234340974' 'orange'\n",
      "  '0.23257866355287882']\n",
      " ['0.5641906906378342' '0.33743127922476157' 'blue' '0.24688800785000162']\n",
      " ['0.6023501207229638' '0.29990976580099615' 'blue' '0.24866963761652844']\n",
      " ['0.5230723797059283' '0.6079457627320258' 'orange' '0.2512935187069678']\n",
      " ['0.6344413984678299' '0.7314682975719378' 'orange'\n",
      "  '0.25871096453169895']\n",
      " ['0.6658504555553756' '0.7485927466572512' 'orange'\n",
      "  '0.26244904176017503']\n",
      " ['0.5772210919653807' '0.22608807743229467' 'blue' '0.32385226938586065']\n",
      " ['0.6196734978215306' '0.8030750200737685' 'orange'\n",
      "  '0.32990826749687524']\n",
      " ['0.6859337119497525' '0.826401602834466' 'orange' '0.33262966734409866']\n",
      " ['0.41453623885123303' '0.5974853425197141' 'orange'\n",
      "  '0.3493412759040405']\n",
      " ['0.4654225903771782' '0.7275195897239226' 'orange'\n",
      "  '0.36434800092188974']\n",
      " ['0.767500331804544' '0.8953799078398433' 'orange' '0.39576701875814785']\n",
      " ['0.5879564561464777' '0.1386554925757713' 'blue' '0.39601510469964']\n",
      " ['0.6558551085346311' '0.10753165958350841' 'blue' '0.4036021045761546']\n",
      " ['0.44941067330756285' '0.2129027173543769' 'blue' '0.41566668500604365']\n",
      " ['0.44284032113967253' '0.2178838451940968' 'blue' '0.417057062186996']\n",
      " ['0.4191403704495221' '0.2426964707490108' 'blue' '0.4191338695826121']\n",
      " ['0.6418983439264594' '0.9153099298116494' 'orange' '0.429148349462047']\n",
      " ['0.4817624236221139' '0.15040767442249572' 'blue' '0.4406429296877122']\n",
      " ['0.6257148026810915' '0.9297036488695753' 'orange' '0.4473164831798928']\n",
      " ['0.515526354003721' '0.9010838896300671' 'orange' '0.464592485074363']\n",
      " ['0.9029365516785564' '0.054974549828837975' 'blue' '0.4705711849862602']\n",
      " ['0.2834592334992749' '0.5753588632766304' 'blue' '0.4725878173222729']\n",
      " ['0.9893347483382404' '0.0883733658925302' 'orange' '0.4761487243170706']\n",
      " ['0.8195371903721151' '0.9819478633018218' 'orange' '0.4869385626401336']\n",
      " ['0.8000941592186867' '0.008437166411177198' 'blue' '0.4941087371760388']\n",
      " ['0.41702683649454664' '0.12601808096851796' 'blue' '0.5007330659915514']\n",
      " ['0.8759764985147169' '0.9979489772326912' 'orange' '0.5136372865214437']\n",
      " ['0.22902868767405976' '0.5977599811982303' 'blue' '0.5300642623215517']\n",
      " ['0.2648459052798348' '0.7259501646224985' 'blue' '0.5351896603230272']\n",
      " ['0.9877404820699175' '0.9933827170246077' 'orange' '0.5476742118024372']\n",
      " ['0.24417835171755278' '0.7328221678514764' 'blue' '0.5568318433012185']\n",
      " ['0.39174353909799126' '0.028774047434324507' 'blue'\n",
      "  '0.5919472866307107']\n",
      " ['0.15700715279462432' '0.48606692052795564' 'blue' '0.593156511841784']\n",
      " ['0.15417192023791187' '0.596988262445039' 'blue' '0.6036702938567418']\n",
      " ['0.13149391664189966' '0.4877037817333689' 'blue' '0.6186282988472463']\n",
      " ['0.12718414555817095' '0.605919812225951' 'blue' '0.6317583360479594']\n",
      " ['0.11404694729911663' '0.4901358337351866' 'blue' '0.6360295488541963']\n",
      " ['0.17686389705729155' '0.7863822570799058' 'blue' '0.6407025750428479']\n",
      " ['0.1741889953567131' '0.8671893405786004' 'orange' '0.682924831077959']\n",
      " ['0.022896067068363994' '0.670934930214985' 'blue' '0.7469262879643846']\n",
      " ['0.027016659862426833' '0.8587206782336015' 'blue' '0.8070845278586729']\n",
      " ['0.03287548094647023' '0.9663094364296686' 'blue' '0.8554016988123835']]\n"
     ]
    }
   ],
   "source": [
    "# Sort the new_matrix with the ascending order of the distance\n",
    "\n",
    "new_matrix = new_matrix[new_matrix[:, 3].argsort()]\n",
    "\n",
    "print(new_matrix)"
   ]
  },
  {
   "cell_type": "markdown",
   "id": "8214cf8d",
   "metadata": {},
   "source": [
    "**3. I pick a value for K. For example, K = 3.**"
   ]
  },
  {
   "cell_type": "code",
   "execution_count": 10,
   "id": "d7371ae7",
   "metadata": {},
   "outputs": [],
   "source": [
    "K = 3"
   ]
  },
  {
   "cell_type": "markdown",
   "id": "527b7d2c",
   "metadata": {},
   "source": [
    "**4. In a new object, I copy the K first rows of my dataset that was previously ordered by ascending values of the distance to the new point. This allows me to keep the K nearest neighbors.**"
   ]
  },
  {
   "cell_type": "code",
   "execution_count": 11,
   "id": "ed0df715",
   "metadata": {},
   "outputs": [
    {
     "name": "stdout",
     "output_type": "stream",
     "text": [
      "[['0.6925256358077336' '0.5346158943058064' 'orange'\n",
      "  '0.06709368582732676']\n",
      " ['0.6283905001932043' '0.4328406415826899' 'orange'\n",
      "  '0.13892174007794375']\n",
      " ['0.7949050343962443' '0.353884946473118' 'orange' '0.15285964471138702']]\n"
     ]
    }
   ],
   "source": [
    "KNN = new_matrix[:K, :]\n",
    "\n",
    "print(KNN)"
   ]
  },
  {
   "cell_type": "markdown",
   "id": "a9390250",
   "metadata": {},
   "source": [
    "**5. I plot the points of this dataset in a different color.**"
   ]
  },
  {
   "cell_type": "code",
   "execution_count": 12,
   "id": "9dcfd096",
   "metadata": {},
   "outputs": [
    {
     "name": "stdout",
     "output_type": "stream",
     "text": [
      "[0.69252564 0.6283905  0.79490503]\n",
      "[0.53461589 0.43284064 0.35388495]\n"
     ]
    }
   ],
   "source": [
    "# Create the x and y axis for the plot\n",
    "\n",
    "KNN_x = KNN[:, 0].astype(float)\n",
    "KNN_y = KNN[:, 1].astype(float)\n",
    "\n",
    "print(KNN_x)\n",
    "print(KNN_y)"
   ]
  },
  {
   "cell_type": "code",
   "execution_count": 13,
   "id": "bf436372",
   "metadata": {},
   "outputs": [
    {
     "data": {
      "image/png": "[encoded data removed]",
      "text/plain": [
       "<Figure size 432x288 with 1 Axes>"
      ]
     },
     "metadata": {
      "needs_background": "light"
     },
     "output_type": "display_data"
    }
   ],
   "source": [
    "plt.scatter(x, y, c = true_label)\n",
    "plt.scatter(x0, y0, c = \"green\")\n",
    "plt.scatter(KNN_x, KNN_y, c = \"brown\")\n",
    "plt.xlabel('x')\n",
    "plt.ylabel('y')\n",
    "plt.show()"
   ]
  },
  {
   "cell_type": "markdown",
   "id": "7a83d949",
   "metadata": {},
   "source": [
    "**6. Based on that dataset with only the K nearest neighbors, I compute the number of \"blue\" and the number of \"orange\", then provide an estimation of the probability for the new observation to be blue.**"
   ]
  },
  {
   "cell_type": "code",
   "execution_count": 14,
   "id": "5af3d45e",
   "metadata": {},
   "outputs": [
    {
     "name": "stdout",
     "output_type": "stream",
     "text": [
      "                    x                   y   color             distance\n",
      "0  0.6925256358077336  0.5346158943058064  orange  0.06709368582732676\n",
      "1  0.6283905001932043  0.4328406415826899  orange  0.13892174007794375\n",
      "2  0.7949050343962443   0.353884946473118  orange  0.15285964471138702\n"
     ]
    }
   ],
   "source": [
    "# Create a DataFrame to count the number of label \"blue\" and \"orange\"\n",
    "\n",
    "import pandas as pd\n",
    "\n",
    "KNN_df = pd.DataFrame(KNN)\n",
    "KNN_df.columns =['x', 'y', 'color', 'distance']\n",
    "\n",
    "print(KNN_df)"
   ]
  },
  {
   "cell_type": "code",
   "execution_count": 15,
   "id": "15fef594",
   "metadata": {},
   "outputs": [
    {
     "data": {
      "text/plain": [
       "orange    3\n",
       "Name: color, dtype: int64"
      ]
     },
     "execution_count": 15,
     "metadata": {},
     "output_type": "execute_result"
    }
   ],
   "source": [
    "# Count the number of \"blue\" and \"orange\"\n",
    "\n",
    "KNN_df.color.value_counts(dropna = False)"
   ]
  },
  {
   "cell_type": "code",
   "execution_count": 16,
   "id": "920b0b8f",
   "metadata": {},
   "outputs": [
    {
     "name": "stdout",
     "output_type": "stream",
     "text": [
      "        color\n",
      "orange    1.0\n"
     ]
    }
   ],
   "source": [
    "# Calculate the probability of \"blue\" and \"orange\"\n",
    "\n",
    "prob = KNN_df.color.value_counts(normalize = True)\n",
    "\n",
    "prob_df = pd.DataFrame(prob)\n",
    "\n",
    "print(prob_df)"
   ]
  },
  {
   "cell_type": "code",
   "execution_count": 17,
   "id": "571df4d4",
   "metadata": {},
   "outputs": [
    {
     "name": "stdout",
     "output_type": "stream",
     "text": [
      "The probability that the new observation to be blue is 0.\n",
      "None\n"
     ]
    }
   ],
   "source": [
    "# Provide an estimation of the probability for the new observation to be blue\n",
    "\n",
    "def probability_blue():\n",
    "    if \"blue\" not in prob_df:\n",
    "        print(\"The probability that the new observation to be blue is 0.\")\n",
    "    else:\n",
    "        print(\"The probability that the new observation to be blue is %d\" % ((prob_df.at[\"blue\", \"color\"])*100))\n",
    "        \n",
    "print(probability_blue())"
   ]
  },
  {
   "cell_type": "markdown",
   "id": "4b69bb29",
   "metadata": {},
   "source": [
    "**7. Based on that probability, assign a predicted class to my new observation.**"
   ]
  },
  {
   "cell_type": "code",
   "execution_count": 18,
   "id": "5acf3b54",
   "metadata": {},
   "outputs": [
    {
     "name": "stdout",
     "output_type": "stream",
     "text": [
      "The predicted class is orange.\n",
      "None\n"
     ]
    }
   ],
   "source": [
    "def prediction():\n",
    "    if prob_df.at[\"orange\", \"color\"] >= 0.5:\n",
    "        print(\"The predicted class is orange.\")\n",
    "    else:\n",
    "        print(\"The predicted class is blue.\")\n",
    "        \n",
    "print(prediction())"
   ]
  },
  {
   "cell_type": "markdown",
   "id": "10244e71",
   "metadata": {},
   "source": [
    "**8. Set a different value for K and look at how it may change your prediction.**"
   ]
  },
  {
   "cell_type": "code",
   "execution_count": 22,
   "id": "fb4ffc75",
   "metadata": {},
   "outputs": [
    {
     "name": "stdout",
     "output_type": "stream",
     "text": [
      "When K is equal to 4, the predicted class for (x0, y0) is orange.\n",
      "When K is equal to 5, the predicted class for (x0, y0) is orange.\n",
      "When K is equal to 6, the predicted class for (x0, y0) is orange.\n",
      "When K is equal to 7, the predicted class for (x0, y0) is orange.\n",
      "When K is equal to 8, the predicted class for (x0, y0) is orange.\n",
      "When K is equal to 9, the predicted class for (x0, y0) is orange.\n",
      "When K is equal to 10, the predicted class for (x0, y0) is orange.\n",
      "When K is equal to 11, the predicted class for (x0, y0) is orange.\n",
      "When K is equal to 12, the predicted class for (x0, y0) is orange.\n",
      "When K is equal to 13, the predicted class for (x0, y0) is orange.\n",
      "When K is equal to 14, the predicted class for (x0, y0) is orange.\n",
      "When K is equal to 15, the predicted class for (x0, y0) is orange.\n",
      "When K is equal to 16, the predicted class for (x0, y0) is orange.\n",
      "When K is equal to 17, the predicted class for (x0, y0) is orange.\n",
      "When K is equal to 18, the predicted class for (x0, y0) is orange.\n",
      "When K is equal to 19, the predicted class for (x0, y0) is orange.\n"
     ]
    }
   ],
   "source": [
    "for K in range(4, 20, 1):\n",
    "    KNN_new = new_matrix[:K, :]\n",
    "    KNN_x_new = KNN_new[:, 0].astype(float)\n",
    "    KNN_y_new = KNN_new[:, 1].astype(float)\n",
    "    KNN_df_new = pd.DataFrame(KNN_new)\n",
    "    KNN_df_new.columns =['x', 'y', 'color', 'distance']\n",
    "    prob_new = KNN_df_new.color.value_counts(normalize = True)\n",
    "    prob_df_new = pd.DataFrame(prob_new)\n",
    "    if prob_df_new.at[\"orange\", \"color\"] >= 0.5:\n",
    "        print(\"When K is equal to %d, the predicted class for (x0, y0) is orange.\" % K)\n",
    "    else:\n",
    "        print(\"When K is equal to %d, the predicted class for (x0, y0) is blue.\" % K)    "
   ]
  }
 ],
 "metadata": {
  "kernelspec": {
   "display_name": "Python 3 (ipykernel)",
   "language": "python",
   "name": "python3"
  },
  "language_info": {
   "codemirror_mode": {
    "name": "ipython",
    "version": 3
   },
   "file_extension": ".py",
   "mimetype": "text/x-python",
   "name": "python",
   "nbconvert_exporter": "python",
   "pygments_lexer": "ipython3",
   "version": "3.9.12"
  }
 },
 "nbformat": 4,
 "nbformat_minor": 5
}
